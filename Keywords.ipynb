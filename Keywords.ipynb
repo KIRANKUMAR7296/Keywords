{
 "cells": [
  {
   "cell_type": "markdown",
   "id": "95ed35e1",
   "metadata": {},
   "source": [
    "Python **Keywords**\n",
    "\n",
    "\n",
    "**False**, **True** : Boolean Data Type "
   ]
  },
  {
   "cell_type": "code",
   "execution_count": 1,
   "id": "b7b265cb",
   "metadata": {},
   "outputs": [
    {
     "data": {
      "text/plain": [
       "True"
      ]
     },
     "execution_count": 1,
     "metadata": {},
     "output_type": "execute_result"
    }
   ],
   "source": [
    "False == (1 > 2) and True == (2 > 1)"
   ]
  },
  {
   "cell_type": "markdown",
   "id": "102df707",
   "metadata": {},
   "source": [
    "**None** : Empty Value Constant"
   ]
  },
  {
   "cell_type": "code",
   "execution_count": 2,
   "id": "5a56f3dd",
   "metadata": {},
   "outputs": [],
   "source": [
    "def func():\n",
    "    x = 2"
   ]
  },
  {
   "cell_type": "code",
   "execution_count": 3,
   "id": "8b5b843a",
   "metadata": {},
   "outputs": [
    {
     "data": {
      "text/plain": [
       "True"
      ]
     },
     "execution_count": 3,
     "metadata": {},
     "output_type": "execute_result"
    }
   ],
   "source": [
    "func() == None"
   ]
  },
  {
   "cell_type": "markdown",
   "id": "0eb549e7",
   "metadata": {},
   "source": [
    "**and**, **or**, **not** : Logical Operators\n",
    "    \n",
    "1. x **and** y : both x and y must be **True**.\n",
    "2. x **or** y : either x or y must be **True**.\n",
    "3. **not** x : x must be **False**."
   ]
  },
  {
   "cell_type": "code",
   "execution_count": 4,
   "id": "bd3f23d0",
   "metadata": {},
   "outputs": [
    {
     "name": "stdout",
     "output_type": "stream",
     "text": [
      "False\n",
      "True\n",
      "False\n"
     ]
    }
   ],
   "source": [
    "x, y = True, False\n",
    "\n",
    "print(x and y)\n",
    "print(x or y)\n",
    "print(not x )"
   ]
  },
  {
   "cell_type": "markdown",
   "id": "6a92446a",
   "metadata": {},
   "source": [
    "**break** : Premature Loop Ending.\n"
   ]
  },
  {
   "cell_type": "code",
   "execution_count": 5,
   "id": "795dab5f",
   "metadata": {},
   "outputs": [
    {
     "name": "stdout",
     "output_type": "stream",
     "text": [
      "hello world\n"
     ]
    }
   ],
   "source": [
    "while(True):\n",
    "    break \n",
    "print('hello world')    "
   ]
  },
  {
   "cell_type": "markdown",
   "id": "035ef834",
   "metadata": {},
   "source": [
    "**class** : Create New Class\n",
    "\n",
    "**def** : Define a New Function or Class Method"
   ]
  },
  {
   "cell_type": "code",
   "execution_count": 6,
   "id": "68fda839",
   "metadata": {},
   "outputs": [],
   "source": [
    "class Car:\n",
    "    def __init__(self, Name, Company, Model, Type):\n",
    "        self.Name = Name\n",
    "        self.Company = Company\n",
    "        self.Model = Model\n",
    "        self.Type = Type\n",
    "        \n",
    "    def Details(self):\n",
    "        return f'🚗 Tata Motors\\nCompany : {self.Company}\\nName    : {self.Name}\\nModel   : {self.Model}'"
   ]
  },
  {
   "cell_type": "code",
   "execution_count": 7,
   "id": "3ec45ae3",
   "metadata": {},
   "outputs": [
    {
     "name": "stdout",
     "output_type": "stream",
     "text": [
      "🚗 Tata Motors\n",
      "Company : Tata\n",
      "Name    : Safari\n",
      "Model   : ZX\n"
     ]
    }
   ],
   "source": [
    "C = Car(Name = 'Safari', \n",
    "        Company = 'Tata',\n",
    "        Model = 'ZX',\n",
    "        Type = 'SUV')\n",
    "\n",
    "print(C.Details())"
   ]
  },
  {
   "cell_type": "markdown",
   "id": "428a8e22",
   "metadata": {},
   "source": [
    "**if**, **elif**, **else** : Conditional Program Execution."
   ]
  },
  {
   "cell_type": "code",
   "execution_count": 8,
   "id": "f680ae2b",
   "metadata": {},
   "outputs": [
    {
     "name": "stdout",
     "output_type": "stream",
     "text": [
      "Enter the Value : 1\n",
      "Small\n"
     ]
    }
   ],
   "source": [
    "x = int(input('Enter the Value : '))\n",
    "if x > 3: \n",
    "    print('Big')\n",
    "elif x == 3: \n",
    "    print('Medium')\n",
    "else:\n",
    "    print('Small')"
   ]
  },
  {
   "cell_type": "markdown",
   "id": "2dcd5ae3",
   "metadata": {},
   "source": [
    "**for**"
   ]
  },
  {
   "cell_type": "code",
   "execution_count": 9,
   "id": "464e75b4",
   "metadata": {},
   "outputs": [
    {
     "name": "stdout",
     "output_type": "stream",
     "text": [
      "0\n",
      "1\n",
      "2\n"
     ]
    }
   ],
   "source": [
    "for i in [0,1,2]:\n",
    "    print(i)"
   ]
  },
  {
   "cell_type": "markdown",
   "id": "f019d497",
   "metadata": {},
   "source": [
    "**while**"
   ]
  },
  {
   "cell_type": "code",
   "execution_count": 10,
   "id": "e5fdcc31",
   "metadata": {},
   "outputs": [
    {
     "name": "stdout",
     "output_type": "stream",
     "text": [
      "0\n",
      "1\n",
      "2\n"
     ]
    }
   ],
   "source": [
    "j = 0\n",
    "while j < 3:\n",
    "    print(j)\n",
    "    j = j + 1"
   ]
  },
  {
   "cell_type": "markdown",
   "id": "b67f7f1b",
   "metadata": {},
   "source": [
    "**in** : Check for Presence in Sequence."
   ]
  },
  {
   "cell_type": "code",
   "execution_count": 11,
   "id": "0d724f4b",
   "metadata": {},
   "outputs": [
    {
     "data": {
      "text/plain": [
       "True"
      ]
     },
     "execution_count": 11,
     "metadata": {},
     "output_type": "execute_result"
    }
   ],
   "source": [
    "5 in [5,10,15]"
   ]
  },
  {
   "cell_type": "markdown",
   "id": "dbf82e0b",
   "metadata": {},
   "source": [
    "**is** : Check for Similary."
   ]
  },
  {
   "cell_type": "code",
   "execution_count": 12,
   "id": "229095c1",
   "metadata": {},
   "outputs": [
    {
     "data": {
      "text/plain": [
       "True"
      ]
     },
     "execution_count": 12,
     "metadata": {},
     "output_type": "execute_result"
    }
   ],
   "source": [
    "x = y = 3\n",
    "x is y"
   ]
  },
  {
   "cell_type": "markdown",
   "id": "ca7e8869",
   "metadata": {},
   "source": [
    "**lambda** : Create Anonymous Function."
   ]
  },
  {
   "cell_type": "code",
   "execution_count": 13,
   "id": "e5c116aa",
   "metadata": {},
   "outputs": [
    {
     "data": {
      "text/plain": [
       "5"
      ]
     },
     "execution_count": 13,
     "metadata": {},
     "output_type": "execute_result"
    }
   ],
   "source": [
    "x = (lambda x : x + 3)\n",
    "x(2)"
   ]
  },
  {
   "cell_type": "markdown",
   "id": "819c2f59",
   "metadata": {},
   "source": [
    "**return** : Result of Function."
   ]
  },
  {
   "cell_type": "code",
   "execution_count": 14,
   "id": "66f751fc",
   "metadata": {},
   "outputs": [],
   "source": [
    "def increase(x):\n",
    "    return x + 1"
   ]
  },
  {
   "cell_type": "code",
   "execution_count": 15,
   "id": "087448c1",
   "metadata": {},
   "outputs": [
    {
     "data": {
      "text/plain": [
       "100"
      ]
     },
     "execution_count": 15,
     "metadata": {},
     "output_type": "execute_result"
    }
   ],
   "source": [
    "increase(99)"
   ]
  }
 ],
 "metadata": {
  "kernelspec": {
   "display_name": "Python 3",
   "language": "python",
   "name": "python3"
  },
  "language_info": {
   "codemirror_mode": {
    "name": "ipython",
    "version": 3
   },
   "file_extension": ".py",
   "mimetype": "text/x-python",
   "name": "python",
   "nbconvert_exporter": "python",
   "pygments_lexer": "ipython3",
   "version": "3.8.5"
  }
 },
 "nbformat": 4,
 "nbformat_minor": 5
}
